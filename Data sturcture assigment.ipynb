{
 "cells": [
  {
   "cell_type": "code",
   "execution_count": 1,
   "id": "0061f829-6b84-4a43-98ca-e325580e4739",
   "metadata": {},
   "outputs": [],
   "source": [
    "# question 01 :- Discuss string slicing and provide examples."
   ]
  },
  {
   "cell_type": "code",
   "execution_count": null,
   "id": "33bd2e0f-2d51-458d-b38b-47efa15d9189",
   "metadata": {},
   "outputs": [],
   "source": []
  },
  {
   "cell_type": "code",
   "execution_count": 2,
   "id": "c2f2be54-03d6-4406-9cb1-ca6df435f52d",
   "metadata": {},
   "outputs": [],
   "source": [
    "# String Slicing in Python\n",
    "\n",
    "# String slicing is a powerful feature in Python that allows you to extract parts (or slices) of a string. It is done using the slice notation, which has the following structure:\n",
    "  \n",
    "#  code :-        string[start:stop:step]\n",
    "\n",
    "# start:> The index where the slice starts (inclusive). If omitted, it defaults to the beginning of the string (0).\n",
    "# stop:> The index where the slice ends (exclusive). If omitted, it defaults to the end of the string.\n",
    "# step:> The step size or stride. If omitted, it defaults to 1. It controls the interval between each character in the slice.\n"
   ]
  },
  {
   "cell_type": "code",
   "execution_count": 3,
   "id": "7bd16ba3-bde2-4509-8e6b-545fb2b16819",
   "metadata": {},
   "outputs": [],
   "source": [
    "##  >>  Examples of String Slicing\n"
   ]
  },
  {
   "cell_type": "code",
   "execution_count": 4,
   "id": "d3048245-6940-4f61-bc54-b4f7865a6f79",
   "metadata": {},
   "outputs": [
    {
     "name": "stdout",
     "output_type": "stream",
     "text": [
      "Hello\n"
     ]
    }
   ],
   "source": [
    "# 01 Examples of String Slicing\n",
    "\n",
    "#  Basic Slicing (start and stop)\n",
    "\n",
    "s = \"Hello, World!\"\n",
    "print(s[0:5])  # Output: 'Hello'\n",
    "\n",
    "\n",
    "# insights>> This slice starts at index 0 and ends at index 5 (exclusive), so it returns the substring \"Hello\"."
   ]
  },
  {
   "cell_type": "code",
   "execution_count": 5,
   "id": "c90639b3-72e5-4e41-8611-2846f0564687",
   "metadata": {},
   "outputs": [
    {
     "name": "stdout",
     "output_type": "stream",
     "text": [
      "Hello\n",
      "World!\n"
     ]
    }
   ],
   "source": [
    "# 2 >> Omitting start or stop\n",
    "\n",
    "s = \"Hello, World!\"\n",
    "print(s[:5])   # Output: 'Hello'  (same as s[0:5])\n",
    "print(s[7:])   # Output: 'World!' (starts at index 7 to the end)\n",
    "\n",
    "#>> s[:5] starts from the beginning and slices up to index 5.\n",
    "#>> s[7:] starts at index 7 and slices until the end."
   ]
  },
  {
   "cell_type": "code",
   "execution_count": 6,
   "id": "481c3228-9099-4fb7-982d-e706cc5acb5e",
   "metadata": {},
   "outputs": [
    {
     "name": "stdout",
     "output_type": "stream",
     "text": [
      "World\n",
      "Hello,\n"
     ]
    }
   ],
   "source": [
    "# 3 >> Using Negative Indices\n",
    "# Negative indices in Python count from the end of the string. -1 refers to the last character, -2 to the second last, and so on.\n",
    "\n",
    "s = \"Hello, World!\"\n",
    "print(s[-6:-1])  # Output: 'World'  (from index -6 to -1, excluding the last character)\n",
    "print(s[:-7])    # Output: 'Hello'  (up to the 7th character from the end)\n"
   ]
  },
  {
   "cell_type": "code",
   "execution_count": 7,
   "id": "a56b2c5f-b651-4b3d-8cc9-765d167e067d",
   "metadata": {},
   "outputs": [
    {
     "name": "stdout",
     "output_type": "stream",
     "text": [
      "Hlo ol!\n",
      "el,Wrd\n"
     ]
    }
   ],
   "source": [
    "# 4 Using Step (Strides)\n",
    "# You can use the step value to control the interval between each character. A step of 2 means it picks every second character.\n",
    "\n",
    "s = \"Hello, World!\"\n",
    "print(s[::2])  # Output: 'Hoo ol!' (every second character)\n",
    "print(s[1::2]) # Output: 'el,Wrd' (start at index 1, pick every second character)\n",
    "\n"
   ]
  },
  {
   "cell_type": "code",
   "execution_count": 8,
   "id": "4ba2449f-2474-4842-94da-45a3e8f7478a",
   "metadata": {},
   "outputs": [
    {
     "name": "stdout",
     "output_type": "stream",
     "text": [
      "!dlroW ,olleH\n"
     ]
    }
   ],
   "source": [
    "# Reversing a String with Slicing\n",
    "\n",
    "# You can reverse a string using slicing with a step of -1.\n",
    "\n",
    "s = \"Hello, World!\"\n",
    "print(s[::-1])  # Output: '!dlroW ,olleH'\n"
   ]
  },
  {
   "cell_type": "code",
   "execution_count": 9,
   "id": "5a2a35db-099f-4e8a-b8a0-bebacb35cf69",
   "metadata": {},
   "outputs": [
    {
     "name": "stdout",
     "output_type": "stream",
     "text": [
      "!lo o\n"
     ]
    }
   ],
   "source": [
    "# Slicing with Step and Negative Indices\n",
    "\n",
    "# Combining step with negative indices is also possible. For instance, if you want to slice a string starting from the end:\n",
    "\n",
    "s = \"Hello, World!\"\n",
    "print(s[-1:-10:-2])  # Output: 'drW o'\n",
    "\n",
    "# insights :- Here, -1 starts from the last character (!), -10 reaches the 10th character from the end (o), and -2 means stepping backward two positions at a time."
   ]
  },
  {
   "cell_type": "code",
   "execution_count": 10,
   "id": "7b73c40e-95f8-497d-ad74-2ebd1da35408",
   "metadata": {},
   "outputs": [],
   "source": [
    "## Summary of String Slicing Behavior:\n",
    "\n",
    "# s[start:stop]: Extracts a substring starting from start (inclusive) to stop (exclusive).\n",
    "# s[start:stop:step]: Allows a specific step to be applied to the slicing, which means skipping some elements.\n",
    "# Negative indices allow counting from the end of the string.\n",
    "# Omitting parameters defaults to the entire string or all characters in the range.\n",
    "\n",
    "\n",
    "## String slicing is a concise and efficient way to manipulate and extract parts of a string in Python.\n",
    "\n",
    "\n",
    "\n"
   ]
  },
  {
   "cell_type": "code",
   "execution_count": null,
   "id": "6f355cdf-85e3-49ed-9cf9-7d55f32431dc",
   "metadata": {},
   "outputs": [],
   "source": []
  },
  {
   "cell_type": "code",
   "execution_count": null,
   "id": "4deefff9-8b9d-4d02-9a2e-1592128635e1",
   "metadata": {},
   "outputs": [],
   "source": []
  },
  {
   "cell_type": "code",
   "execution_count": 11,
   "id": "8f04982a-edd7-4002-81d4-66b45deda186",
   "metadata": {},
   "outputs": [],
   "source": [
    "## Question 02 >> Explain the key features of lists in Python"
   ]
  },
  {
   "cell_type": "code",
   "execution_count": null,
   "id": "fe0048b9-2172-4a3a-a69c-547f7b56cb47",
   "metadata": {},
   "outputs": [],
   "source": []
  },
  {
   "cell_type": "code",
   "execution_count": 12,
   "id": "78420026-cf3e-40a8-a773-8418e220c7f5",
   "metadata": {},
   "outputs": [],
   "source": [
    "# Key Features of Lists in Python\n",
    "\n",
    "# Lists are one of the most versatile and commonly used data structures in Python. They allow you to store ordered collections of items, which can be of mixed types, including other lists. Below are the key features of lists in Python:"
   ]
  },
  {
   "cell_type": "code",
   "execution_count": 13,
   "id": "0d9daf81-01af-418d-8ef3-d010a7c5e3ef",
   "metadata": {},
   "outputs": [
    {
     "name": "stdout",
     "output_type": "stream",
     "text": [
      "10\n",
      "40\n"
     ]
    }
   ],
   "source": [
    "\n",
    "#1 . Ordered Collection\n",
    "\n",
    "#Lists maintain the order of the elements in which they are inserted. This means that the position (index) of an element remains constant until the list is modified.\n",
    "\n",
    "#>>> Example:\n",
    "\n",
    "\n",
    "my_list = [10, 20, 30, 40]\n",
    "print(my_list[0])  # Output: 10 (first element)\n",
    "print(my_list[3])  # Output: 40 (last element)\n",
    "\n"
   ]
  },
  {
   "cell_type": "code",
   "execution_count": 15,
   "id": "6df7727a-24a3-4202-960e-0e4890f6a903",
   "metadata": {},
   "outputs": [
    {
     "name": "stdout",
     "output_type": "stream",
     "text": [
      "[1, 10, 3]\n"
     ]
    }
   ],
   "source": [
    "## 2 Mutable\n",
    "\n",
    "#Lists are mutable, meaning their elements can be changed or updated after the list is created.\n",
    "# You can modify, add, or remove elements from a list without creating a new list.\n",
    "\n",
    "# Example:\n",
    "\n",
    "my_list = [1, 2, 3]\n",
    "my_list[1] = 10  # Modify element at index 1\n",
    "print(my_list)   # Output: [1, 10, 3]\n"
   ]
  },
  {
   "cell_type": "code",
   "execution_count": 16,
   "id": "1cf49cbe-77c5-4f9b-9e1b-2c6bcdfc009a",
   "metadata": {},
   "outputs": [
    {
     "name": "stdout",
     "output_type": "stream",
     "text": [
      "[1, 'hello', 3.14, [2, 3], True]\n"
     ]
    }
   ],
   "source": [
    "## 3 Allow Mixed Data Types\n",
    "\n",
    "#Lists can store elements of different data types, including integers, strings, floating-point numbers, and even other lists.\n",
    "\n",
    "#Example:\n",
    "\n",
    "mixed_list = [1, \"hello\", 3.14, [2, 3], True]\n",
    "print(mixed_list)  # Output: [1, 'hello', 3.14, [2, 3], True]\n"
   ]
  },
  {
   "cell_type": "code",
   "execution_count": 17,
   "id": "b2c4fdc6-c5f1-4317-aa7f-1f26132035a3",
   "metadata": {},
   "outputs": [
    {
     "name": "stdout",
     "output_type": "stream",
     "text": [
      "apple\n",
      "cherry\n"
     ]
    }
   ],
   "source": [
    "## 4  Indexed\n",
    "\n",
    "# Each element in a list has an index, which can be used to access or modify the element. Python uses zero-based indexing, where the first element has index 0.\n",
    "# You can use positive indices (starting from 0) or negative indices (starting from -1 for the last element).\n",
    "\n",
    "#Example >>\n",
    "\n",
    "my_list = ['apple', 'banana', 'cherry']\n",
    "print(my_list[0])    # Output: 'apple'  (first element)\n",
    "print(my_list[-1])   # Output: 'cherry' (last element)\n"
   ]
  },
  {
   "cell_type": "code",
   "execution_count": 18,
   "id": "59e4ca62-19fa-4554-a6bf-19b707b170b1",
   "metadata": {},
   "outputs": [
    {
     "name": "stdout",
     "output_type": "stream",
     "text": [
      "[1, 2, 3, 4]\n",
      "[1, 2, 3]\n"
     ]
    }
   ],
   "source": [
    "## 5 Dynamic Size\n",
    "\n",
    "#Lists are dynamic in size, meaning their length can grow or shrink as elements are added or removed.\n",
    "\n",
    "#Example:\n",
    "\n",
    "my_list = [1, 2, 3]\n",
    "my_list.append(4)   # Add an element to the end of the list\n",
    "print(my_list)      # Output: [1, 2, 3, 4]\n",
    "my_list.pop()       # Remove the last element\n",
    "print(my_list)      # Output: [1, 2, 3]\n"
   ]
  },
  {
   "cell_type": "code",
   "execution_count": 19,
   "id": "ff43e6b6-2fd5-4275-952a-56667e95620f",
   "metadata": {},
   "outputs": [
    {
     "name": "stdout",
     "output_type": "stream",
     "text": [
      "[20, 30, 40]\n",
      "[10, 20, 30]\n",
      "[10, 30, 50]\n"
     ]
    }
   ],
   "source": [
    "## 6 Supports Slicing\n",
    "\n",
    "# Lists support slicing, which allows you to extract a sublist by specifying a start, stop, and step index. This is very useful for retrieving portions of a list or modifying them.\n",
    "\n",
    "# Example>>\n",
    "\n",
    "my_list = [10, 20, 30, 40, 50]\n",
    "print(my_list[1:4])   # Output: [20, 30, 40]  (from index 1 to index 3)\n",
    "print(my_list[:3])    # Output: [10, 20, 30]  (first three elements)\n",
    "print(my_list[::2])   # Output: [10, 30, 50]  (every second element)\n"
   ]
  },
  {
   "cell_type": "code",
   "execution_count": 20,
   "id": "9696b54b-28f1-4ddc-9161-eb1277231e4b",
   "metadata": {},
   "outputs": [
    {
     "name": "stdout",
     "output_type": "stream",
     "text": [
      "[2, 3]\n",
      "5\n"
     ]
    }
   ],
   "source": [
    "## 7 Supports Nesting\n",
    "\n",
    "# Lists can contain other lists as elements, allowing for nested or multi-dimensional structures.\n",
    "\n",
    "# Example>>\n",
    "\n",
    "nested_list = [1, [2, 3], [4, 5, 6], 7]\n",
    "print(nested_list[1])  # Output: [2, 3]\n",
    "print(nested_list[2][1])  # Output: 5 (accessing an element in the nested list)\n"
   ]
  },
  {
   "cell_type": "code",
   "execution_count": 21,
   "id": "9bd92ea4-1d05-4f53-9c49-b6fe19daea2a",
   "metadata": {},
   "outputs": [
    {
     "name": "stdout",
     "output_type": "stream",
     "text": [
      "10\n",
      "20\n",
      "30\n",
      "40\n"
     ]
    }
   ],
   "source": [
    "## 8 Supports Iteration\n",
    "\n",
    "#Lists are iterable, meaning you can loop through them using loops like for or while.\n",
    "\n",
    "#Example>>\n",
    "\n",
    "my_list = [10, 20, 30, 40]\n",
    "for item in my_list:\n",
    "    print(item)\n",
    "# Output:\n",
    "# 10\n",
    "# 20\n",
    "# 30\n",
    "# 40\n"
   ]
  },
  {
   "cell_type": "code",
   "execution_count": 22,
   "id": "a55c77d2-b52a-41ac-b0e4-026ab27dda7c",
   "metadata": {},
   "outputs": [
    {
     "name": "stdout",
     "output_type": "stream",
     "text": [
      "[1, 3, 4, 5]\n"
     ]
    }
   ],
   "source": [
    "## 9 Built-in Methods for Manipulation\n",
    "\n",
    "#Python provides a variety of built-in methods to manipulate lists, such as adding, removing, and modifying elements. Some of the commonly used methods include:\n",
    "\n",
    "# append(): Adds an element to the end of the list.\n",
    "# insert(): Inserts an element at a specified index.\n",
    "# remove(): Removes the first occurrence of a specified element.\n",
    "# pop(): Removes and returns the element at a specified index (defaults to the last element).\n",
    "# extend(): Adds multiple elements (from another list or iterable).\n",
    "# sort(): Sorts the list in place.\n",
    "# reverse(): Reverses the order of elements in the list.\n",
    "\n",
    "\n",
    "# Example:\n",
    "\n",
    "my_list = [1, 2, 3, 4]\n",
    "my_list.append(5)\n",
    "my_list.remove(2)\n",
    "my_list.sort()\n",
    "print(my_list)  # Output: [1, 3, 4, 5]\n"
   ]
  },
  {
   "cell_type": "code",
   "execution_count": 23,
   "id": "38e0260a-70b1-4e10-8bcd-31f5a1e1147b",
   "metadata": {},
   "outputs": [
    {
     "name": "stdout",
     "output_type": "stream",
     "text": [
      "[1, 4, 9, 16, 25]\n"
     ]
    }
   ],
   "source": [
    "## 10 List Comprehensions\n",
    "\n",
    "# List comprehensions provide a concise way to create lists based on existing lists or iterables. They allow for conditional logic and transformations in a single line.\n",
    "\n",
    "# Example>>\n",
    "\n",
    "numbers = [1, 2, 3, 4, 5]\n",
    "squares = [x**2 for x in numbers]  # List comprehension to square each element\n",
    "print(squares)  # Output: [1, 4, 9, 16, 25]\n"
   ]
  },
  {
   "cell_type": "code",
   "execution_count": 24,
   "id": "85b92885-f58b-4ce7-8233-49848401eb5b",
   "metadata": {},
   "outputs": [
    {
     "name": "stdout",
     "output_type": "stream",
     "text": [
      "[10, 'apple', 3.14, [1, 2]]\n"
     ]
    }
   ],
   "source": [
    "# Heterogeneous Elements\n",
    "\n",
    "# Unlike arrays in other languages, Python lists can contain different data types (strings, integers, objects) within the same list, offering greater flexibility.\n",
    "\n",
    "# Example:\n",
    "\n",
    "my_list = [10, \"apple\", 3.14, [1, 2]]\n",
    "print(my_list)  # Output: [10, 'apple', 3.14, [1, 2]]\n"
   ]
  },
  {
   "cell_type": "code",
   "execution_count": 25,
   "id": "c723001c-6015-4561-a01b-36a98d22f407",
   "metadata": {},
   "outputs": [],
   "source": [
    "## Summary of List Features\n",
    "\n",
    "#Ordered:>> Elements retain their order.\n",
    "#Mutable:>> Lists can be modified.\n",
    "#Heterogeneous:>> Elements can have different types.\n",
    "#Dynamic Size:>> The size of a list can change dynamically.\n",
    "#Supports Indexing and Slicing:>> Allows easy access and manipulation of elements.\n",
    "#Built-in Methods:>> Provides a rich set of functions for modifying and interacting with lists.\n",
    "#Supports Nesting:>> Lists can contain other lists.\n",
    "\n",
    "#Lists are highly versatile and efficient for handling collections of data, making them an essential part of the Python language."
   ]
  },
  {
   "cell_type": "code",
   "execution_count": null,
   "id": "53d7b256-04e6-4b03-9327-fd15421fde46",
   "metadata": {},
   "outputs": [],
   "source": []
  },
  {
   "cell_type": "code",
   "execution_count": null,
   "id": "d22ade19-e4bd-40e3-b0ff-1072dfc55bbf",
   "metadata": {},
   "outputs": [],
   "source": []
  },
  {
   "cell_type": "code",
   "execution_count": 26,
   "id": "aeadc0e1-ce66-47aa-aa98-a2a16f7c3f7c",
   "metadata": {},
   "outputs": [],
   "source": [
    "# question 3 >> Describe how to access, modify, and delete elements in a list with examples"
   ]
  },
  {
   "cell_type": "code",
   "execution_count": null,
   "id": "67bc0936-8cc1-4af4-8d06-2bda6a90663a",
   "metadata": {},
   "outputs": [],
   "source": []
  },
  {
   "cell_type": "code",
   "execution_count": 27,
   "id": "50de5841-b07b-4287-9bf2-ed38bd94fa6a",
   "metadata": {},
   "outputs": [],
   "source": [
    "#In Python, lists are mutable, meaning you can access, modify, and delete elements within them. Here's how you can do these operations with examples.\n",
    "\n"
   ]
  },
  {
   "cell_type": "code",
   "execution_count": 30,
   "id": "36132f00-9a41-4db2-b3c5-3f5d9b82c673",
   "metadata": {},
   "outputs": [
    {
     "name": "stdout",
     "output_type": "stream",
     "text": [
      "10\n",
      "40\n",
      "50\n",
      "40\n"
     ]
    }
   ],
   "source": [
    "# 1. Accessing Elements in a List\n",
    "\n",
    "#You can access elements in a list using indexing. Python lists are zero-indexed, meaning the first element has index 0, the second has index 1, and so on. You can also use negative indexing to access elements from the end of the list, where -1 is the last element, -2 is the second-to-last, and so on.\n",
    "\n",
    "# Example:\n",
    "\n",
    "my_list = [10, 20, 30, 40, 50]\n",
    "\n",
    "# Accessing elements with positive indexing\n",
    "print(my_list[0])  # Output: 10 (first element)\n",
    "print(my_list[3])  # Output: 40 (fourth element)\n",
    "\n",
    "# Accessing elements with negative indexing\n",
    "print(my_list[-1])  # Output: 50 (last element)\n",
    "print(my_list[-2])  # Output: 40 (second-to-last element)\n"
   ]
  },
  {
   "cell_type": "code",
   "execution_count": 31,
   "id": "71a66ebf-df98-4960-879e-a0290ee8cac0",
   "metadata": {},
   "outputs": [
    {
     "name": "stdout",
     "output_type": "stream",
     "text": [
      "[10, 25, 30, 40, 50]\n",
      "[10, 25, 30, 40, 60]\n"
     ]
    }
   ],
   "source": [
    "##  Modifying Elements in a List\n",
    "\n",
    "# You can modify an element in a list by using its index. Just assign a new value to the element at a specific index.\n",
    "\n",
    "# Example:\n",
    "\n",
    "my_list = [10, 20, 30, 40, 50]\n",
    "\n",
    "# Modify the element at index 1 (second element)\n",
    "my_list[1] = 25\n",
    "print(my_list)  # Output: [10, 25, 30, 40, 50]\n",
    "\n",
    "# Modify the last element using negative indexing\n",
    "my_list[-1] = 60\n",
    "print(my_list)  # Output: [10, 25, 30, 40, 60]\n"
   ]
  },
  {
   "cell_type": "code",
   "execution_count": 32,
   "id": "b0a101fe-031e-48de-a162-2a8bea9a745f",
   "metadata": {},
   "outputs": [
    {
     "name": "stdout",
     "output_type": "stream",
     "text": [
      "[10, 20, 30, 40]\n",
      "[10, 15, 20, 30, 40]\n",
      "[10, 15, 20, 30, 40, 50, 60]\n"
     ]
    }
   ],
   "source": [
    "# 3. Adding Elements to a List\n",
    "# There are several ways to add elements to a list:\n",
    "\n",
    "#append(): Adds an element to the end of the list.\n",
    "#insert(): Adds an element at a specific position in the list.\n",
    "#extend(): Adds multiple elements (from another list or iterable) to the end of the list.\n",
    "\n",
    "#Example:\n",
    "\n",
    "my_list = [10, 20, 30]\n",
    "\n",
    "# Using append() to add an element to the end of the list\n",
    "my_list.append(40)\n",
    "print(my_list)  # Output: [10, 20, 30, 40]\n",
    "\n",
    "# Using insert() to add an element at a specific position (index 1)\n",
    "my_list.insert(1, 15)\n",
    "print(my_list)  # Output: [10, 15, 20, 30, 40]\n",
    "\n",
    "# Using extend() to add multiple elements (from another list)\n",
    "my_list.extend([50, 60])\n",
    "print(my_list)  # Output: [10, 15, 20, 30, 40, 50, 60]\n"
   ]
  },
  {
   "cell_type": "code",
   "execution_count": 33,
   "id": "3cc9fbad-4b93-4f82-ad66-116289a117ce",
   "metadata": {},
   "outputs": [
    {
     "name": "stdout",
     "output_type": "stream",
     "text": [
      "[10, 20, 40, 50]\n",
      "40\n",
      "[10, 20, 50]\n",
      "50\n",
      "[10, 20]\n",
      "[20]\n",
      "[]\n"
     ]
    }
   ],
   "source": [
    "# 4. Removing Elements from a List\n",
    "# You can remove elements from a list in several ways:\n",
    "\n",
    "# remove(): Removes the first occurrence of a specified value. If the value is not found, it raises a ValueError.\n",
    "# pop(): Removes an element at a specified index and returns it. If no index is provided, it removes and returns the last element.\n",
    "# del: Deletes an element by index or removes the entire list.\n",
    "# clear(): Removes all elements from the list.\n",
    "\n",
    "\n",
    "# Example:\n",
    "\n",
    "my_list = [10, 20, 30, 40, 50]\n",
    "\n",
    "# Using remove() to remove the first occurrence of a value\n",
    "my_list.remove(30)\n",
    "print(my_list)  # Output: [10, 20, 40, 50]\n",
    "\n",
    "# Using pop() to remove an element at a specific index (index 2)\n",
    "removed_element = my_list.pop(2)\n",
    "print(removed_element)  # Output: 40 (the element that was removed)\n",
    "print(my_list)  # Output: [10, 20, 50]\n",
    "\n",
    "# Using pop() without an index to remove and return the last element\n",
    "last_element = my_list.pop()\n",
    "print(last_element)  # Output: 50\n",
    "print(my_list)  # Output: [10, 20]\n",
    "\n",
    "# Using del to delete an element at index 0\n",
    "del my_list[0]\n",
    "print(my_list)  # Output: [20]\n",
    "\n",
    "# Using clear() to remove all elements from the list\n",
    "my_list.clear()\n",
    "print(my_list)  # Output: []\n"
   ]
  },
  {
   "cell_type": "code",
   "execution_count": 34,
   "id": "3b0d8857-2431-4197-afae-de42cb36bba2",
   "metadata": {},
   "outputs": [
    {
     "name": "stdout",
     "output_type": "stream",
     "text": [
      "[10, 15, 25, 40, 50]\n",
      "[10, 40, 50]\n",
      "[2, 4, 6, 8, 10]\n",
      "[3, 4, 5]\n"
     ]
    }
   ],
   "source": [
    "# 5. Other Useful List Operations\n",
    "\n",
    "# Slicing: You can remove a slice of a list or update it directly using slicing.\n",
    "\n",
    "# Example of modifying a sublist using slicing:\n",
    "\n",
    "my_list = [10, 20, 30, 40, 50]\n",
    "\n",
    "# Modify a sublist using slicing\n",
    "my_list[1:3] = [15, 25]  # Replace elements at indices 1 and 2\n",
    "print(my_list)  # Output: [10, 15, 25, 40, 50]\n",
    "\n",
    "# Remove elements using slicing\n",
    "my_list[1:3] = []  # Remove the elements at indices 1 and 2\n",
    "print(my_list)  # Output: [10, 40, 50]\n",
    "\n",
    "\n",
    "# insights >> List comprehension: You can also modify a list by using list comprehension to generate new lists based on conditions or transformations.\n",
    "\n",
    "# Example:>>\n",
    "\n",
    "my_list = [1, 2, 3, 4, 5]\n",
    "\n",
    "# Create a new list with each element doubled\n",
    "doubled_list = [x * 2 for x in my_list]\n",
    "print(doubled_list)  # Output: [2, 4, 6, 8, 10]\n",
    "\n",
    "# Create a list of elements greater than 2\n",
    "filtered_list = [x for x in my_list if x > 2]\n",
    "print(filtered_list)  # Output: [3, 4, 5]\n"
   ]
  },
  {
   "cell_type": "code",
   "execution_count": 35,
   "id": "91796177-d531-4f25-840d-dc41218cab8f",
   "metadata": {},
   "outputs": [],
   "source": [
    "##Summary of List Operations\n",
    "\n",
    "#Accessing Elements:\n",
    "#Use indexing: my_list[index] or negative indexing: my_list[-index].\n",
    "\n",
    "#Modifying Elements:\n",
    "#Assign a new value: my_list[index] = new_value.\n",
    "\n",
    "#Adding Elements:\n",
    "#append(), insert(), or extend() methods to add elements.\n",
    "\n",
    "#Removing Elements:\n",
    "#remove(), pop(), del, or clear() to remove elements.\n",
    "\n",
    "#Slicing:\n",
    "#Modify or remove multiple elements at once using slicing syntax.\n",
    "\n",
    "#With these techniques, you can efficiently manipulate lists in Python, whether it's accessing, modifying, or deleting elements."
   ]
  },
  {
   "cell_type": "code",
   "execution_count": null,
   "id": "fcb9a7ca-5690-41ca-8a87-aa9c48a94e9e",
   "metadata": {},
   "outputs": [],
   "source": []
  },
  {
   "cell_type": "code",
   "execution_count": null,
   "id": "0e4b30df-bdea-456d-96da-5ae2b00e6f30",
   "metadata": {},
   "outputs": [],
   "source": []
  },
  {
   "cell_type": "code",
   "execution_count": 36,
   "id": "f407623f-afdf-432e-adb1-a64534969806",
   "metadata": {},
   "outputs": [],
   "source": [
    "# question 4 >>Compare and contrast tuples and lists with examples"
   ]
  },
  {
   "cell_type": "code",
   "execution_count": null,
   "id": "41fc9b8a-1487-4c8d-b5f0-5d0a4ab5d9da",
   "metadata": {},
   "outputs": [],
   "source": []
  },
  {
   "cell_type": "code",
   "execution_count": 37,
   "id": "cb9fe73c-1d13-4639-b1d7-fa9c71ca7e07",
   "metadata": {},
   "outputs": [],
   "source": [
    "#Comparison of Tuples and Lists in Python\n",
    "\n",
    "# In Python, both tuples and lists are used to store collections of items. However, there are key differences between them in terms of mutability, syntax, and performance. Let's compare and contrast these two data structures in detail:\n",
    "\n"
   ]
  },
  {
   "cell_type": "code",
   "execution_count": 38,
   "id": "4134840d-0446-4150-bca6-55a09e5d8cd5",
   "metadata": {},
   "outputs": [
    {
     "name": "stdout",
     "output_type": "stream",
     "text": [
      "[1, 10, 3, 4]\n"
     ]
    }
   ],
   "source": [
    "## 1. Mutability\n",
    "\n",
    "# List: Lists are mutable, meaning you can modify their contents after they are created. You can change, add, or remove elements in a list.\n",
    "# Tuple: Tuples are immutable, meaning once a tuple is created, its elements cannot be changed, added, or removed.\n",
    "\n",
    "#Example:\n",
    "\n",
    "# List: mutable\n",
    "my_list = [1, 2, 3]\n",
    "my_list[1] = 10  # Modifying an element\n",
    "my_list.append(4)  # Adding an element\n",
    "print(my_list)  # Output: [1, 10, 3, 4]\n",
    "\n",
    "# Tuple: immutable\n",
    "my_tuple = (1, 2, 3)\n",
    "# my_tuple[1] = 10  # This will raise a TypeError: 'tuple' object does not support item assignment\n"
   ]
  },
  {
   "cell_type": "code",
   "execution_count": 41,
   "id": "7f7ab836-4537-441b-9aa9-77ed5e72b65d",
   "metadata": {},
   "outputs": [],
   "source": [
    "##2. Syntax\n",
    "\n",
    "#List: Lists are created using square brackets [].\n",
    "#Tuple: Tuples are created using parentheses ().\n",
    "\n",
    "\n",
    "#Example:\n",
    "\n",
    "# List\n",
    "my_list = [1, 2, 3, 4]\n",
    "\n",
    "# Tuple\n",
    "my_tuple = (1, 2, 3, 4)\n",
    "\n",
    "# insights >> A tuple can also be created without parentheses, using a comma:\n",
    "\n",
    "my_tuple = 1, 2, 3, 4  # Equivalent to (1, 2, 3, 4)\n",
    "\n",
    "# To create a single-element tuple, you need a trailing comma:\n",
    "\n",
    "single_element_tuple = (5,)  # Not just (5), since (5) is interpreted as an integer\n"
   ]
  },
  {
   "cell_type": "code",
   "execution_count": 42,
   "id": "571270e7-17eb-4fdb-98d8-ce9f92e1f506",
   "metadata": {},
   "outputs": [
    {
     "name": "stdout",
     "output_type": "stream",
     "text": [
      "List creation time: 0.11059236526489258\n",
      "Tuple creation time: 0.13128900527954102\n"
     ]
    }
   ],
   "source": [
    "##3. Performance\n",
    "\n",
    "#List: Lists are generally slower than tuples when it comes to iteration and element access. This is because lists are designed to be more flexible (mutable) and thus have more overhead in managing their internal state.\n",
    "#Tuple: Since tuples are immutable, they are more memory-efficient and faster than lists in many cases, particularly for iteration and access.\n",
    "\n",
    "\n",
    "#Example:\n",
    "\n",
    "\n",
    "\n",
    "import time\n",
    "\n",
    "# Timing list creation\n",
    "start = time.time()\n",
    "my_list = [i for i in range(1000000)]\n",
    "print(\"List creation time:\", time.time() - start)\n",
    "\n",
    "# Timing tuple creation\n",
    "start = time.time()\n",
    "my_tuple = tuple(i for i in range(1000000))\n",
    "print(\"Tuple creation time:\", time.time() - start)\n",
    "\n",
    "\n",
    "# insights >> Typically, tuple creation will be faster and use less memory than creating a list of the same size."
   ]
  },
  {
   "cell_type": "code",
   "execution_count": 43,
   "id": "656705c8-8ada-4860-97bc-41fa2f81e68b",
   "metadata": {},
   "outputs": [
    {
     "name": "stdout",
     "output_type": "stream",
     "text": [
      "point1\n"
     ]
    }
   ],
   "source": [
    "#4. Use Cases\n",
    "\n",
    "#List:\n",
    "#Lists are ideal when you need to modify the collection (add, remove, or change items) after creation.\n",
    "#Lists are more commonly used when the data structure needs to grow dynamically.\n",
    "\n",
    "#Tuple:\n",
    "#Tuples are often used for fixed data that shouldn't be modified.\n",
    "#They are used when data integrity is important, such as in representing fixed collections of items like coordinates (e.g., (x, y, z)).\n",
    "#Tuples can be used as dictionary keys, whereas lists cannot.\n",
    "\n",
    "\n",
    "#Example (Tuple as Dictionary Key):\n",
    "\n",
    "# Using a tuple as a dictionary key (valid)\n",
    "my_dict = { (1, 2): \"point1\", (3, 4): \"point2\" }\n",
    "print(my_dict[(1, 2)])  # Output: point1\n",
    "\n",
    "# Using a list as a dictionary key (invalid)\n",
    "# my_dict = {[1, 2]: \"point1\"}  # TypeError: unhashable type: 'list'\n"
   ]
  },
  {
   "cell_type": "code",
   "execution_count": 44,
   "id": "5f726ef2-eb3f-4d6a-9696-4fe0a71664f0",
   "metadata": {},
   "outputs": [
    {
     "name": "stdout",
     "output_type": "stream",
     "text": [
      "[1, 3]\n",
      "2\n",
      "2\n"
     ]
    }
   ],
   "source": [
    "##5. Methods and Operations\n",
    "\n",
    "#List: Lists have several built-in methods for modification and manipulation, such as append(), remove(), pop(), extend(), insert(), sort(), etc.\n",
    "#Tuple: Tuples are more limited in their operations due to their immutability. They have only two main methods: count() and index().\n",
    "\n",
    "\n",
    "#Example:\n",
    "\n",
    "# List methods\n",
    "my_list = [1, 2, 3]\n",
    "my_list.append(4)  # Adds an element to the end of the list\n",
    "my_list.remove(2)  # Removes the first occurrence of the element\n",
    "my_list.pop()  # Removes and returns the last element\n",
    "print(my_list)  # Output: [1, 3]\n",
    "\n",
    "# Tuple methods\n",
    "my_tuple = (1, 2, 3, 2, 4)\n",
    "print(my_tuple.count(2))  # Output: 2 (counts occurrences of 2)\n",
    "print(my_tuple.index(3))  # Output: 2 (finds index of first occurrence of 3)\n"
   ]
  },
  {
   "cell_type": "code",
   "execution_count": 45,
   "id": "3acd66b9-f66b-4ff8-a5c3-a4d7dd375e3e",
   "metadata": {},
   "outputs": [
    {
     "name": "stdout",
     "output_type": "stream",
     "text": [
      "{(1, 2), (3, 4)}\n"
     ]
    }
   ],
   "source": [
    "##6. Immutability and Hashability\n",
    "\n",
    "#List: Since lists are mutable, they are not hashable and cannot be used as dictionary keys or set elements.\n",
    "#Tuple: Since tuples are immutable, they are hashable (provided all their elements are hashable), and they can be used as dictionary keys or in sets.\n",
    "\n",
    "\n",
    "#Example: \n",
    "\n",
    "# Using a tuple as a set element (valid)\n",
    "my_set = {(1, 2), (3, 4)}\n",
    "print(my_set)\n",
    "\n",
    "# Using a list as a set element (invalid)\n",
    "# my_set = {[1, 2], [3, 4]}  # TypeError: unhashable type: 'list'\n"
   ]
  },
  {
   "cell_type": "code",
   "execution_count": 46,
   "id": "6df2385b-fc1d-4789-ae57-9030993c7ff1",
   "metadata": {},
   "outputs": [
    {
     "name": "stdout",
     "output_type": "stream",
     "text": [
      "[[10, 2], [3, 4], [5, 6]]\n"
     ]
    }
   ],
   "source": [
    "## 7. Nested Tuples and Lists\n",
    "\n",
    "#Both tuples and lists can contain other lists or tuples (i.e., they can be nested), but the difference is in their immutability.\n",
    "\n",
    "# List: Lists can contain other lists or tuples and can be modified.\n",
    "# Tuple: Tuples can contain lists or other tuples, but they cannot be modified (unless the elements themselves are mutable).\n",
    "\n",
    "\n",
    "#Example\n",
    "\n",
    "# Nested List\n",
    "nested_list = [[1, 2], [3, 4], [5, 6]]\n",
    "nested_list[0][0] = 10  # Modifying an element in the nested list\n",
    "print(nested_list)  # Output: [[10, 2], [3, 4], [5, 6]]\n",
    "\n",
    "# Nested Tuple\n",
    "nested_tuple = ((1, 2), (3, 4), (5, 6))\n",
    "# nested_tuple[0][0] = 10  # This will raise a TypeError because tuples are immutable\n"
   ]
  },
  {
   "cell_type": "code",
   "execution_count": 47,
   "id": "63d3fb96-b401-480c-ab57-69c92d5f740f",
   "metadata": {},
   "outputs": [],
   "source": [
    "#Summary of Differences\n",
    "#Feature          >>        \tList\t                        >>          Tuple\n",
    "#Syntax           >>        \t[]\t                           >>            ()\n",
    "#Mutability     \t>>     Mutable                             >>     \tImmutable\n",
    "#Methods\t    >>>>    Many methods (append(), pop(), etc.)\t>>   Limited methods (count(), index())\n",
    "#Performance      >>  \tSlower (due to mutability)              >> \tFaster (due to immutability)\n",
    "#Usage       \t  .>>  Suitable for dynamic data, modifications  >>   Suitable for fixed data, integrity\n",
    "#Hashability\t  >>       Not hashable\t                       >>    Hashable (if elements are hashable)\n",
    "#Use as dictionary keys\t >>  Cannot be used as dictionary keys\t>>   Can be used as dictionary keys\n"
   ]
  },
  {
   "cell_type": "code",
   "execution_count": 49,
   "id": "680e2507-4a23-4179-9169-56eed15fdd4f",
   "metadata": {},
   "outputs": [],
   "source": [
    "#When to Use Which?\n",
    "#Use a List when:\n",
    "\n",
    "#You need a collection that may change over time (add, remove, or modify elements).\n",
    "#You need to store items that may vary in size or type.\n",
    "#You don't need to use the collection as a dictionary key or in sets.\n",
    "\n",
    "#Use a Tuple when:\n",
    "\n",
    "#You need an immutable collection that should not be modified.\n",
    "#You need a collection to be used as a dictionary key or in a set.\n",
    "#You want a collection that is memory-efficient and faster for certain use cases.\n",
    "#The collection represents a fixed set of items, like coordinates, dates, or data records.\n",
    "\n",
    "\n",
    "#In summary, lists are ideal for collections that need to change over time, while tuples are suitable for collections that remain constant and require performance benefits or hashability.\n",
    "\n",
    "\n",
    "\n"
   ]
  },
  {
   "cell_type": "code",
   "execution_count": null,
   "id": "e6916690-a946-445c-b3b1-61caad80e074",
   "metadata": {},
   "outputs": [],
   "source": []
  },
  {
   "cell_type": "code",
   "execution_count": null,
   "id": "3f2d0e09-f0e5-4dc3-b32c-77840c3686b9",
   "metadata": {},
   "outputs": [],
   "source": []
  },
  {
   "cell_type": "code",
   "execution_count": null,
   "id": "46b4c04b-ff81-4c5b-aecc-c852eb1ee39f",
   "metadata": {},
   "outputs": [],
   "source": []
  },
  {
   "cell_type": "code",
   "execution_count": 50,
   "id": "05a1290c-9dc8-4aba-a675-5c8497d93d56",
   "metadata": {},
   "outputs": [],
   "source": [
    "# Question 5 >>Describe the key features of sets and provide examples of their use"
   ]
  },
  {
   "cell_type": "code",
   "execution_count": null,
   "id": "d6cfdfad-1b90-4716-bfc7-b318a23cfc37",
   "metadata": {},
   "outputs": [],
   "source": []
  },
  {
   "cell_type": "code",
   "execution_count": 51,
   "id": "fc853fb9-489d-4bcd-b9d1-d32bd9fa6075",
   "metadata": {},
   "outputs": [],
   "source": [
    "# Key Features of Sets in Python\n",
    "\n",
    "#A set is an unordered collection of unique elements in Python. Sets are highly efficient for certain types of operations, particularly for membership testing and eliminating duplicates. Here's a breakdown of the key features of sets, followed by examples of their use.\n",
    "\n"
   ]
  },
  {
   "cell_type": "code",
   "execution_count": 52,
   "id": "63c17803-13e6-417a-9a7a-faa20e60d291",
   "metadata": {},
   "outputs": [
    {
     "name": "stdout",
     "output_type": "stream",
     "text": [
      "{40, 10, 20, 30}\n"
     ]
    }
   ],
   "source": [
    "# 1. Unordered Collection\n",
    "\n",
    "#Sets are unordered, meaning the elements do not have a specific index or order. The elements are stored in a random order.\n",
    "#Since sets are unordered, you cannot access their elements by index, and the order in which elements are inserted is not preserved.\n",
    "\n",
    "#Example:\n",
    "\n",
    "my_set = {10, 20, 30, 40}\n",
    "print(my_set)  # Output: {40, 10, 20, 30} (order may vary)\n"
   ]
  },
  {
   "cell_type": "code",
   "execution_count": 53,
   "id": "85f51b67-f3e8-4ab8-b037-b395ef6c22df",
   "metadata": {},
   "outputs": [
    {
     "name": "stdout",
     "output_type": "stream",
     "text": [
      "{10, 20, 30}\n"
     ]
    }
   ],
   "source": [
    "#2. Unique Elements\n",
    "#A set automatically removes duplicate elements. If you try to add a duplicate element, it will be ignored.\n",
    "\n",
    "\n",
    "#Example:\n",
    "\n",
    "\n",
    "my_set = {10, 20, 30, 20}\n",
    "print(my_set)  # Output: {10, 20, 30} (duplicates removed)\n"
   ]
  },
  {
   "cell_type": "code",
   "execution_count": 54,
   "id": "29ac361f-468b-49ea-b164-9bf9d8dbceac",
   "metadata": {},
   "outputs": [
    {
     "name": "stdout",
     "output_type": "stream",
     "text": [
      "{40, 10, 20, 30}\n",
      "{40, 10, 30}\n",
      "{40, 10, 30}\n"
     ]
    }
   ],
   "source": [
    "##3. Mutable\n",
    "\n",
    "#Sets are mutable, meaning you can add or remove elements after the set is created.\n",
    "#However, since sets are unordered, you cannot modify individual elements directly (like you can with lists or tuples).\n",
    "\n",
    "\n",
    "#Example (Adding and Removing Elements):\n",
    "\n",
    "my_set = {10, 20, 30}\n",
    "\n",
    "# Adding elements\n",
    "my_set.add(40)\n",
    "print(my_set)  # Output: {10, 20, 30, 40}\n",
    "\n",
    "# Removing elements\n",
    "my_set.remove(20)  # Removes 20 from the set\n",
    "print(my_set)  # Output: {10, 30, 40}\n",
    "\n",
    "# Using discard() (no error if the element doesn't exist)\n",
    "my_set.discard(100)  # No error even though 100 is not in the set\n",
    "print(my_set)  # Output: {10, 30, 40}\n"
   ]
  },
  {
   "cell_type": "code",
   "execution_count": 55,
   "id": "88d72129-8276-48cd-a26d-ce8550c1462c",
   "metadata": {},
   "outputs": [
    {
     "name": "stdout",
     "output_type": "stream",
     "text": [
      "{1, 2, 3, 4, 5}\n"
     ]
    }
   ],
   "source": [
    "#4. No Duplicate Elements\n",
    "#As mentioned earlier, sets do not allow duplicate elements. If you try to add a duplicate element, it won't raise an error; it just won't be added.\n",
    "\n",
    "\n",
    "#Example:\n",
    "\n",
    "my_set = {1, 2, 3, 3, 4, 5}\n",
    "print(my_set)  # Output: {1, 2, 3, 4, 5} (duplicate '3' is ignored)\n",
    "\n"
   ]
  },
  {
   "cell_type": "code",
   "execution_count": 56,
   "id": "61c1beca-20dc-4e82-91e7-0a75f912aca8",
   "metadata": {},
   "outputs": [
    {
     "name": "stdout",
     "output_type": "stream",
     "text": [
      "{1, 2, 3, 4, 5, 6}\n",
      "{3, 4}\n",
      "{1, 2}\n",
      "{1, 2, 5, 6}\n"
     ]
    }
   ],
   "source": [
    "#5. Supports Mathematical Set Operations\n",
    "\n",
    "#Sets support various mathematical operations, such as:\n",
    "#Union: Combine the elements of two sets.\n",
    "#Intersection: Find common elements between two sets.\n",
    "#Difference: Find elements in one set but not in another.\n",
    "#Symmetric Difference: Find elements that are in one set or the other, but not both.\n",
    "\n",
    "\n",
    "#Example (Set Operations):\n",
    "\n",
    "set1 = {1, 2, 3, 4}\n",
    "set2 = {3, 4, 5, 6}\n",
    "\n",
    "# Union\n",
    "union = set1 | set2\n",
    "print(union)  # Output: {1, 2, 3, 4, 5, 6}\n",
    "\n",
    "# Intersection\n",
    "intersection = set1 & set2\n",
    "print(intersection)  # Output: {3, 4}\n",
    "\n",
    "# Difference\n",
    "difference = set1 - set2\n",
    "print(difference)  # Output: {1, 2}\n",
    "\n",
    "# Symmetric Difference\n",
    "sym_diff = set1 ^ set2\n",
    "print(sym_diff)  # Output: {1, 2, 5, 6}\n"
   ]
  },
  {
   "cell_type": "code",
   "execution_count": 57,
   "id": "b5be8b8c-334a-4109-b090-a1c7a9b1abf6",
   "metadata": {},
   "outputs": [],
   "source": [
    "##6. No Indexing, Slicing, or Reordering\n",
    "\n",
    "# Since sets are unordered, you cannot access elements using an index or slice them like lists or tuples.\n",
    "\n",
    "#Example (Trying to Index a Set)\n",
    "\n",
    "my_set = {10, 20, 30}\n",
    "# print(my_set[0])  # This will raise a TypeError: 'set' object is not subscriptable\n"
   ]
  },
  {
   "cell_type": "code",
   "execution_count": 58,
   "id": "ea80646e-7f04-4e76-a0e7-46daed55ed17",
   "metadata": {},
   "outputs": [
    {
     "name": "stdout",
     "output_type": "stream",
     "text": [
      "True\n",
      "False\n"
     ]
    }
   ],
   "source": [
    "#7. Supports Membership Testing\n",
    "#Sets are optimized for checking membership, making it very fast to test if an element exists in a set.\n",
    "\n",
    "\n",
    "#Example:\n",
    "\n",
    "my_set = {10, 20, 30, 40}\n",
    "\n",
    "print(10 in my_set)  # Output: True\n",
    "print(50 in my_set)  # Output: False\n"
   ]
  },
  {
   "cell_type": "code",
   "execution_count": 59,
   "id": "a89d9eb8-d32b-401a-b3f2-3ef9c72fd627",
   "metadata": {},
   "outputs": [
    {
     "name": "stdout",
     "output_type": "stream",
     "text": [
      "10\n",
      "20\n",
      "30\n"
     ]
    }
   ],
   "source": [
    "#8. Sets Are Iterable\n",
    "\n",
    "#You can iterate over the elements of a set using a for loop, but since sets are unordered, the order of iteration is not guaranteed.\n",
    "\n",
    "#Example:\n",
    "\n",
    "my_set = {10, 20, 30}\n",
    "\n",
    "for element in my_set:\n",
    "    print(element)\n",
    "# Output could be in any order, e.g.:\n",
    "# 10\n",
    "# 20\n",
    "# 30\n"
   ]
  },
  {
   "cell_type": "code",
   "execution_count": 60,
   "id": "af5bfd99-3f92-4492-ac2f-0f066f859397",
   "metadata": {},
   "outputs": [
    {
     "name": "stdout",
     "output_type": "stream",
     "text": [
      "frozenset({1, 2, 3, 4})\n"
     ]
    }
   ],
   "source": [
    "#9. Frozen Sets (Immutable Sets)\n",
    "\n",
    "#In addition to regular sets, Python also provides frozen sets, which are immutable versions of sets. Once a frozen set is created, it cannot be modified (i.e., no adding or removing elements).\n",
    "#Frozen sets are hashable and can be used as dictionary keys or elements of other sets.\n",
    "\n",
    "\n",
    "#Example\n",
    "\n",
    "frozen_set = frozenset([1, 2, 3, 4])\n",
    "print(frozen_set)  # Output: frozenset({1, 2, 3, 4})\n",
    "\n",
    "# Attempting to modify the frozen set will raise an error\n",
    "# frozen_set.add(5)  # This will raise an AttributeError\n"
   ]
  },
  {
   "cell_type": "code",
   "execution_count": 61,
   "id": "7e59e6dc-a4c4-4e0c-867b-52bf6ef411ce",
   "metadata": {},
   "outputs": [
    {
     "name": "stdout",
     "output_type": "stream",
     "text": [
      "{1, 2, 3, 4, 5}\n"
     ]
    }
   ],
   "source": [
    "#Common Use Cases of Sets\n",
    "\n",
    "#1 Eliminating Duplicates\n",
    "\n",
    "#Sets are commonly used to eliminate duplicates from a collection. For example, converting a list with duplicate elements into a set automatically removes the duplicates.\n",
    "\n",
    "# Example:\n",
    "\n",
    "my_list = [1, 2, 2, 3, 4, 4, 5]\n",
    "unique_elements = set(my_list)\n",
    "print(unique_elements)  # Output: {1, 2, 3, 4, 5}\n"
   ]
  },
  {
   "cell_type": "code",
   "execution_count": 62,
   "id": "995d31ca-ec8b-4b9a-b5ac-b93e21b78600",
   "metadata": {},
   "outputs": [
    {
     "name": "stdout",
     "output_type": "stream",
     "text": [
      "Value is allowed.\n"
     ]
    }
   ],
   "source": [
    "#2 Membership Testing\n",
    "\n",
    "#Sets provide an efficient way to test membership. This is especially useful for operations that involve checking if an element is part of a group.\n",
    "\n",
    "#Example:\n",
    "\n",
    "allowed_values = {1, 3, 5, 7, 9}\n",
    "if 3 in allowed_values:\n",
    "    print(\"Value is allowed.\")\n"
   ]
  },
  {
   "cell_type": "code",
   "execution_count": 63,
   "id": "613f1419-c2a6-4642-a36c-53992ce6bf3d",
   "metadata": {},
   "outputs": [
    {
     "name": "stdout",
     "output_type": "stream",
     "text": [
      "{4, 5}\n",
      "{1, 2, 3}\n"
     ]
    }
   ],
   "source": [
    "#3 Set Operations for Data Comparison\n",
    "\n",
    "#You can use sets for operations like finding common elements (intersection) or elements that are only present in one set (difference). These are useful for tasks such as comparing lists or finding similarities and differences.\n",
    "\n",
    "#Example\n",
    "\n",
    "set_a = {1, 2, 3, 4, 5}\n",
    "set_b = {4, 5, 6, 7, 8}\n",
    "\n",
    "# Find common elements\n",
    "common_elements = set_a & set_b\n",
    "print(common_elements)  # Output: {4, 5}\n",
    "\n",
    "# Find elements in set_a but not in set_b\n",
    "diff_elements = set_a - set_b\n",
    "print(diff_elements)  # Output: {1, 2, 3}\n"
   ]
  },
  {
   "cell_type": "code",
   "execution_count": 64,
   "id": "dce2eece-6d6f-47ae-ae93-dda26ee333cb",
   "metadata": {},
   "outputs": [
    {
     "name": "stdout",
     "output_type": "stream",
     "text": [
      "{1, 3, 5}\n"
     ]
    }
   ],
   "source": [
    "#4 Removing Unwanted Elements\n",
    "\n",
    "#Sets are also useful for efficiently removing unwanted items from a collection. For example, you can use set operations to remove specific values from a list or another set.\n",
    "\n",
    "#Example:\n",
    "\n",
    "set_a = {1, 2, 3, 4, 5}\n",
    "unwanted_elements = {2, 4}\n",
    "\n",
    "cleaned_set = set_a - unwanted_elements\n",
    "print(cleaned_set)  # Output: {1, 3, 5}\n"
   ]
  },
  {
   "cell_type": "code",
   "execution_count": 65,
   "id": "72df1a40-039c-4446-9232-5a716d077ea8",
   "metadata": {},
   "outputs": [],
   "source": [
    "#Summary of Set Features\n",
    "#Feature                     Set\n",
    "#Order          \t         Unordered\n",
    "#Uniqueness\t                 Elements must be unique\n",
    "#Mutability\t                 Mutable (but cannot modify individual elements)\n",
    "#Indexing and Slicing      \tNot supported\n",
    "#Operations\t                Supports union, intersection, difference, symmetric difference\n",
    "#Membership Testing\t        Very fast (in keyword)\n",
    "#Duplicates\t                Automatically removes duplicates\n",
    "#Use as Dictionary Key\t     Not allowed (unless frozen set)\n",
    "#Hashable\t                 Yes, if elements are hashable\n",
    "\n",
    "\n",
    "#When to Use a Set?\n",
    "#Use a set when:\n",
    "#You need to store unique elements.\n",
    "#You need to perform fast membership tests.\n",
    "#You need to perform set operations like union, intersection, difference, or symmetric difference.\n",
    "#You want to eliminate duplicates from a collection quickly.\n",
    "#You don't need to preserve the order of elements.\n",
    "#Sets are a powerful data structure for handling collections of unique elements, and they are particularly useful in situations where performance is critical for operations like checking membership or performing set-based"
   ]
  },
  {
   "cell_type": "code",
   "execution_count": null,
   "id": "00111609-d5a2-4df4-a56d-501b6fbe9356",
   "metadata": {},
   "outputs": [],
   "source": []
  },
  {
   "cell_type": "code",
   "execution_count": null,
   "id": "f0db1c01-c790-4d88-b15a-8fe769759f8d",
   "metadata": {},
   "outputs": [],
   "source": []
  },
  {
   "cell_type": "code",
   "execution_count": 1,
   "id": "073cafa3-f8a1-4404-9175-2a3b7b135c09",
   "metadata": {},
   "outputs": [],
   "source": [
    "##Question 6 >> Discuss the use cases of tuples and sets in Python programming"
   ]
  },
  {
   "cell_type": "code",
   "execution_count": null,
   "id": "d70146d8-f3c8-42db-b68e-c4719c9ac9aa",
   "metadata": {},
   "outputs": [],
   "source": []
  },
  {
   "cell_type": "code",
   "execution_count": 2,
   "id": "4f95c1af-d6bf-416f-8768-441772ad7805",
   "metadata": {},
   "outputs": [],
   "source": [
    "#In Python programming, both tuples and sets are powerful data structures that serve different purposes. While both are collections, they differ in their properties and use cases. Let's break down their characteristics and where each is typically used."
   ]
  },
  {
   "cell_type": "code",
   "execution_count": null,
   "id": "65004fe5-3f40-43d7-af31-f083d1e6688b",
   "metadata": {},
   "outputs": [],
   "source": []
  },
  {
   "cell_type": "code",
   "execution_count": 3,
   "id": "b46f824e-0660-4d42-b7fc-1e2f1b74c83d",
   "metadata": {},
   "outputs": [],
   "source": [
    "##1. Tuples in Python\n",
    "\n",
    "#A tuple is an ordered, immutable collection of elements. Once a tuple is created, its elements cannot be changed, added, or removed. Tuples are defined using parentheses (), e.g., my_tuple = (1, 2, 3).\n",
    "\n",
    "#Key Characteristics:\n",
    "\n",
    "#Ordered: The items in a tuple have a defined order, which means they can be indexed and sliced.\n",
    "#Immutable: Once created, the elements of a tuple cannot be modified (no item assignments).\n",
    "#Heterogeneous: Tuples can contain elements of different types (e.g., integers, strings, lists, etc.).\n",
    "#Faster than lists: Because tuples are immutable, they generally have faster access times than lists.\n",
    "\n",
    "#####Use Cases for Tuples:\n",
    "\n",
    "#1>>>> Returning multiple values from a function:\n",
    "\n",
    "#Since tuples are immutable and ordered, they are a convenient way to return multiple values from a function.\n",
    "\n",
    "def get_coordinates():\n",
    "    return (4, 5)\n",
    "\n",
    "x, y = get_coordinates()\n"
   ]
  },
  {
   "cell_type": "code",
   "execution_count": 4,
   "id": "0f2716d8-1677-45ce-845a-a385825865a0",
   "metadata": {},
   "outputs": [],
   "source": [
    "#2 >>Fixed data collections:\n",
    "\n",
    "#Use tuples when you need a collection that should not be modified after creation, such as storing fixed configurations or constant data.\n",
    "\n",
    "\n",
    "CONFIG = (\"localhost\", 8080, \"/home/user/data\")\n"
   ]
  },
  {
   "cell_type": "code",
   "execution_count": 5,
   "id": "95415ef1-3df6-4612-b13e-d1af8a06aa16",
   "metadata": {},
   "outputs": [],
   "source": [
    "#3 >> Efficient storage:\n",
    "\n",
    "#Since tuples are more memory efficient and faster than lists, they are ideal for small, fixed data sets where you don't need to change the contents.\n",
    "\n",
    "#>>>>>>>>>>>>>>>>>>>>>>>>>>>>>>>>>>>>>>>>>>>>>>>>>>>>>>>>>>>>>>>>>>>>>>>>>>>>>>>>>>>>>>>>>>>>>>>>>>>>>>>>>>>>>>>>>>>>>>>>>>>>>>>>>>>>>>>>>>>>>>>>\n",
    "\n",
    "#4>> As dictionary keys:\n",
    "\n",
    "# Because tuples are immutable, they can be used as keys in dictionaries, unlike lists, which cannot be dictionary keys.\n",
    "\n",
    "location = {('city', 'state'): 'New York'}\n"
   ]
  },
  {
   "cell_type": "code",
   "execution_count": 6,
   "id": "b1ac3040-f9d7-4ea0-8688-b78569603117",
   "metadata": {},
   "outputs": [],
   "source": [
    "##5 Data integrity:\n",
    "\n",
    "# Use tuples when you want to ensure the integrity of the data by preventing modification (e.g., representing a fixed coordinate or a pair of related values).\n"
   ]
  },
  {
   "cell_type": "code",
   "execution_count": null,
   "id": "44158bcc-f0d7-402b-944b-007cd0a2d302",
   "metadata": {},
   "outputs": [],
   "source": [
    "##2. Sets in Python\n",
    "\n",
    "#A set is an unordered collection of unique elements. Sets are mutable, meaning elements can be added or removed, but they do not maintain order, and they do not allow duplicate items.\n",
    "\n",
    "#Key Characteristics:>\n",
    "\n",
    "#Unordered: The elements in a set do not have any defined order.\n",
    "#Unique elements: Sets automatically remove duplicate values.\n",
    "#Mutable: You can add or remove elements from a set.\n",
    "#Support for mathematical set operations: Sets support operations like union, intersection, difference, etc."
   ]
  },
  {
   "cell_type": "code",
   "execution_count": 7,
   "id": "153fe15b-0b58-4162-a962-5e5a6c899cbe",
   "metadata": {},
   "outputs": [],
   "source": [
    "##Use Cases for Sets:\n",
    "\n",
    "#1 Eliminating duplicates:\n",
    "\n",
    "#Sets are an excellent choice when you need to remove duplicate items from a collection, as they automatically ensure uniqueness.\n",
    "\n",
    "my_list = [1, 2, 3, 1, 2, 4]\n",
    "unique_elements = set(my_list)\n"
   ]
  },
  {
   "cell_type": "code",
   "execution_count": 8,
   "id": "48e2e989-72a2-4e37-bb5a-284c0ab3d0e3",
   "metadata": {},
   "outputs": [
    {
     "name": "stdout",
     "output_type": "stream",
     "text": [
      "3 is in the set\n"
     ]
    }
   ],
   "source": [
    "#2 Membership testing:\n",
    "\n",
    "#Checking whether an item is part of a set is faster (O(1) on average) compared to lists, making sets ideal for quick membership tests.\n",
    "\n",
    "my_set = {1, 2, 3, 4}\n",
    "if 3 in my_set:\n",
    "    print(\"3 is in the set\")\n"
   ]
  },
  {
   "cell_type": "code",
   "execution_count": 9,
   "id": "08c6e5b7-0f2e-412d-a191-3041360e055d",
   "metadata": {},
   "outputs": [
    {
     "name": "stdout",
     "output_type": "stream",
     "text": [
      "{3, 4}\n",
      "{1, 2, 3, 4, 5, 6}\n",
      "{1, 2}\n"
     ]
    }
   ],
   "source": [
    "#3 Set operations:\n",
    "\n",
    "#Sets are designed to support mathematical set operations like union, intersection, difference, and symmetric difference, making them useful for tasks that require these operations.\n",
    "\n",
    "\n",
    "set1 = {1, 2, 3, 4}\n",
    "set2 = {3, 4, 5, 6}\n",
    "print(set1 & set2)  # Intersection: {3, 4}\n",
    "print(set1 | set2)  # Union: {1, 2, 3, 4, 5, 6}\n",
    "print(set1 - set2)  # Difference: {1, 2}\n",
    "\n"
   ]
  },
  {
   "cell_type": "code",
   "execution_count": 11,
   "id": "2767ada4-b29c-4ecc-877e-facbbfa02193",
   "metadata": {},
   "outputs": [],
   "source": [
    "#4 Tracking unique items:\n",
    "\n",
    "#If you're dealing with data where you only care about the unique items (e.g., unique IDs, unique IP addresses), sets provide a simple way to track them without worrying about duplicates."
   ]
  },
  {
   "cell_type": "code",
   "execution_count": 12,
   "id": "cdf15b8d-ecb3-44f7-9e4b-8732a0964586",
   "metadata": {},
   "outputs": [
    {
     "ename": "NameError",
     "evalue": "name 'url' is not defined",
     "output_type": "error",
     "traceback": [
      "\u001b[1;31m---------------------------------------------------------------------------\u001b[0m",
      "\u001b[1;31mNameError\u001b[0m                                 Traceback (most recent call last)",
      "Cell \u001b[1;32mIn[12], line 6\u001b[0m\n\u001b[0;32m      1\u001b[0m \u001b[38;5;66;03m#Avoiding redundant computations:\u001b[39;00m\n\u001b[0;32m      2\u001b[0m \n\u001b[0;32m      3\u001b[0m \u001b[38;5;66;03m#Use sets when you need to ensure that a certain action is performed only once, or to track the elements that have been processed, e.g., filtering a list of URLs for duplicates.\u001b[39;00m\n\u001b[0;32m      5\u001b[0m visited_urls \u001b[38;5;241m=\u001b[39m \u001b[38;5;28mset\u001b[39m()\n\u001b[1;32m----> 6\u001b[0m \u001b[38;5;28;01mif\u001b[39;00m \u001b[43murl\u001b[49m \u001b[38;5;129;01mnot\u001b[39;00m \u001b[38;5;129;01min\u001b[39;00m visited_urls:\n\u001b[0;32m      7\u001b[0m     visited_urls\u001b[38;5;241m.\u001b[39madd(url)\n\u001b[0;32m      8\u001b[0m     process_url(url)\n",
      "\u001b[1;31mNameError\u001b[0m: name 'url' is not defined"
     ]
    }
   ],
   "source": [
    "#5 Avoiding redundant computations:\n",
    "\n",
    "#Use sets when you need to ensure that a certain action is performed only once, or to track the elements that have been processed, e.g., filtering a list of URLs for duplicates.\n",
    "\n",
    "visited_urls = set()\n",
    "if url not in visited_urls:\n",
    "    visited_urls.add(url)\n",
    "    process_url(url)\n"
   ]
  },
  {
   "cell_type": "code",
   "execution_count": 13,
   "id": "98d2ecfb-16a4-421e-9121-49a063a17f4e",
   "metadata": {},
   "outputs": [],
   "source": [
    "##6 Set-based data structures:\n",
    "\n",
    "#Sets are commonly used in algorithms and data structures, especially in problems related to graph theory, where operations like union-find or finding connected components may require efficient set operations."
   ]
  },
  {
   "cell_type": "code",
   "execution_count": 14,
   "id": "0b5e9992-124f-4fce-84c2-16c7b6dd6d90",
   "metadata": {},
   "outputs": [],
   "source": [
    "##Key Differences Between Tuples and Sets:\n",
    "\n",
    "# Feature\t    >>>>>>>            Tuple\t                          >>>>>>>>>                                 Set\n",
    "# Order\t    >>>>>>>   Ordered (maintains insertion order)         >>>>>>>>>                         \t   Unordered\n",
    "# Mutability  >>>>>>>       \tImmutable\t                          >>>>>>>>>                              Mutable\n",
    "# Duplicates\t>>>>>>>     Allows duplicates\t                      >>>>>>>>>                              Does not allow duplicates\n",
    "# Use Cases\t>>>>>>> Fixed collections, function return values, data integrity, dictionary keys >>>\t    Removing duplicates, set operations, membership testing\n",
    "# Performance  >>>>>> Faster for iteration than lists, but slower than sets for membership testing >>>\tFaster for membership testing and set operations"
   ]
  },
  {
   "cell_type": "code",
   "execution_count": 15,
   "id": "6665d08d-9d71-481e-8ee8-e4f7aa623efa",
   "metadata": {},
   "outputs": [],
   "source": [
    "##Conclusion:\n",
    "\n",
    "\n",
    "#Tuples are useful when you need an ordered, immutable collection of elements, especially when returning multiple values, creating constant data sets, or using them as dictionary keys.\n",
    "#Sets are great when you need an unordered collection of unique items, especially for membership testing, eliminating duplicates, or performing set-based operations like union and intersection.\n",
    "#Choosing between a tuple and a set depends on whether you need order and immutability (use a tuple), or whether you need fast membership testing and uniqueness (use a set)."
   ]
  },
  {
   "cell_type": "code",
   "execution_count": null,
   "id": "eef5d7df-50a1-4700-b64c-957b7aac9d37",
   "metadata": {},
   "outputs": [],
   "source": []
  },
  {
   "cell_type": "code",
   "execution_count": null,
   "id": "199e5017-bc34-4941-8d1e-6f47d2bf4075",
   "metadata": {},
   "outputs": [],
   "source": []
  },
  {
   "cell_type": "code",
   "execution_count": 16,
   "id": "19aa2425-281c-4698-b4cc-0a36dd5a6b5f",
   "metadata": {},
   "outputs": [],
   "source": [
    "## Question 7 >> Describe how to add, modify, and delete items in a dictionary with examples"
   ]
  },
  {
   "cell_type": "code",
   "execution_count": null,
   "id": "37b988f2-03f2-424c-b072-4ab6adb0c7d3",
   "metadata": {},
   "outputs": [],
   "source": []
  },
  {
   "cell_type": "code",
   "execution_count": 17,
   "id": "45060265-59aa-4996-a2b4-0170ceb40afa",
   "metadata": {},
   "outputs": [],
   "source": [
    "#In Python, dictionaries are mutable, unordered collections that store key-value pairs. Each key in a dictionary must be unique, and keys are used to access their corresponding values. You can perform various operations on dictionaries, including adding, modifying, and deleting items.\n"
   ]
  },
  {
   "cell_type": "code",
   "execution_count": 20,
   "id": "2403c65f-7bbb-4dab-925c-6899d9fb0b8e",
   "metadata": {},
   "outputs": [
    {
     "name": "stdout",
     "output_type": "stream",
     "text": [
      "{'name': 'John', 'age': 30}\n",
      "{'name': 'John', 'age': 30, 'city': 'New York', 'job': 'Engineer'}\n",
      "{'name': 'John', 'age': 30, 'city': 'New York', 'job': 'Engineer', 'country': 'USA', 'hobby': 'reading'}\n"
     ]
    }
   ],
   "source": [
    "##1. Adding Items to a Dictionary\n",
    "#To add a new item to a dictionary, you assign a value to a new key. If the key doesn't already exist, the key-value pair is added; if the key exists, the value is updated (we'll see more on modifying later).\n",
    "\n",
    "#Example 1: Adding a new key-value pair\n",
    "\n",
    "# Create an empty dictionary\n",
    "my_dict = {}\n",
    "\n",
    "# Add a new key-value pair\n",
    "my_dict['name'] = 'John'\n",
    "my_dict['age'] = 30\n",
    "\n",
    "print(my_dict)\n",
    "\n",
    "# Add more items to an existing dictionary\n",
    "my_dict['city'] = 'New York'\n",
    "my_dict['job'] = 'Engineer'\n",
    "\n",
    "print(my_dict)\n",
    "\n",
    "\n",
    "# You can also use the update() method to add multiple key-value pairs from another dictionary or iterable.\n",
    "\n",
    "# Example 3: Adding multiple items using update()\n",
    "\n",
    "# Using the update() method to add items\n",
    "\n",
    "my_dict.update({'country': 'USA', 'hobby': 'reading'})\n",
    "\n",
    "print(my_dict)\n",
    "\n"
   ]
  },
  {
   "cell_type": "code",
   "execution_count": 21,
   "id": "7b8844cf-5b52-417f-adc4-a81e848580e3",
   "metadata": {},
   "outputs": [
    {
     "name": "stdout",
     "output_type": "stream",
     "text": [
      "{'name': 'John', 'age': 35, 'city': 'New York', 'job': 'Engineer', 'country': 'USA', 'hobby': 'reading'}\n",
      "{'name': 'John', 'age': 35, 'city': 'San Francisco', 'job': 'Data Scientist', 'country': 'USA', 'hobby': 'reading'}\n"
     ]
    }
   ],
   "source": [
    "##2. Modifying Items in a Dictionary\n",
    "#To modify an existing item, you reassign a new value to an existing key. If the key is already in the dictionary, the value is updated.\n",
    "\n",
    "#Example 1: Modifying an existing value\n",
    "\n",
    "# Modify the value associated with an existing key\n",
    "my_dict['age'] = 35  # Changing age from 30 to 35\n",
    "\n",
    "print(my_dict)\n",
    "\n",
    "\n",
    "# Example 2: Modifying a value using update()\n",
    "\n",
    "# Modify an existing value using update()\n",
    "my_dict.update({'city': 'San Francisco', 'job': 'Data Scientist'})\n",
    "\n",
    "print(my_dict)\n",
    "\n",
    "\n"
   ]
  },
  {
   "cell_type": "code",
   "execution_count": 22,
   "id": "80512b82-defd-405b-b464-3b6ac1283d0d",
   "metadata": {},
   "outputs": [
    {
     "name": "stdout",
     "output_type": "stream",
     "text": [
      "{'name': 'John', 'age': 35, 'city': 'San Francisco', 'job': 'Data Scientist', 'country': 'USA'}\n",
      "Removed value: Data Scientist\n",
      "{'name': 'John', 'age': 35, 'city': 'San Francisco', 'country': 'USA'}\n",
      "Last item removed: ('country', 'USA')\n",
      "{'name': 'John', 'age': 35, 'city': 'San Francisco'}\n",
      "{}\n"
     ]
    }
   ],
   "source": [
    "##3. Deleting Items from a Dictionary\n",
    "#There are multiple ways to remove items from a dictionary: using del, pop(), or popitem().\n",
    "\n",
    "#Example 1: Using del to delete a key-value pair\n",
    "#The del statement removes a key-value pair by specifying the key.\n",
    "\n",
    "# Delete a key-value pair using del\n",
    "del my_dict['hobby']\n",
    "\n",
    "print(my_dict)\n",
    "\n",
    "\n",
    "##Example 2: Using pop() to remove and return a value\n",
    "\n",
    "#The pop() method removes the item with the specified key and returns the value associated with that key. If the key is not found, it raises a KeyError unless you provide a default value.\n",
    "\n",
    "# Remove and return the value of a specified key using pop()\n",
    "removed_value = my_dict.pop('job')\n",
    "\n",
    "print(\"Removed value:\", removed_value)\n",
    "print(my_dict)\n",
    "\n",
    "\n",
    "#Example 3: Using popitem() to remove and return the last inserted key-value pair\n",
    "\n",
    "#The popitem() method removes and returns the last key-value pair inserted into the dictionary (in Python 3.7+ dictionaries maintain insertion order). If the dictionary is empty, it raises a KeyError.\n",
    "\n",
    "# Remove the last inserted key-value pair using popitem()\n",
    "last_item = my_dict.popitem()\n",
    "\n",
    "print(\"Last item removed:\", last_item)\n",
    "print(my_dict)\n",
    "\n",
    "\n",
    "#Example 4: Using clear() to remove all items from the dictionary\n",
    "\n",
    "#The clear() method removes all items from the dictionary, leaving it empty.\n",
    "\n",
    "# Remove all items from the dictionary using clear()\n",
    "my_dict.clear()\n",
    "\n",
    "print(my_dict)\n"
   ]
  },
  {
   "cell_type": "code",
   "execution_count": 23,
   "id": "f33895a9-bdae-4c55-9b7c-ac4518e21d45",
   "metadata": {},
   "outputs": [],
   "source": [
    "##Summary of Methods for Adding, Modifying, and Deleting Items:\n",
    "\n",
    "#Adding:\n",
    "#Use my_dict[key] = value to add a new key-value pair or modify an existing one.\n",
    "#Use my_dict.update({'key': 'value'}) to add or update multiple items.\n",
    "\n",
    "#Modifying:\n",
    "#Reassign a new value to an existing key: my_dict[key] = new_value.\n",
    "#Use my_dict.update({'key': 'new_value'}) to modify multiple keys.\n",
    "\n",
    "#Deleting:\n",
    "#Use del my_dict[key] to delete a specific key-value pair.\n",
    "#Use my_dict.pop(key) to remove a key-value pair and get the value.\n",
    "#Use my_dict.popitem() to remove and return the last inserted key-value pair.\n",
    "#Use my_dict.clear() to remove all items from the dictionary.\n",
    "\n",
    "\n",
    "#These operations make dictionaries flexible and powerful for managing collections of data in Python."
   ]
  },
  {
   "cell_type": "code",
   "execution_count": null,
   "id": "9c00b76d-011b-4d8a-b36a-feaecd020184",
   "metadata": {},
   "outputs": [],
   "source": []
  },
  {
   "cell_type": "code",
   "execution_count": null,
   "id": "d8dab17c-8109-41fb-b52e-f4a3fd674157",
   "metadata": {},
   "outputs": [],
   "source": []
  },
  {
   "cell_type": "code",
   "execution_count": null,
   "id": "082c4037-cd94-4228-aeeb-319886ef5697",
   "metadata": {},
   "outputs": [],
   "source": []
  },
  {
   "cell_type": "code",
   "execution_count": 31,
   "id": "588fed81-a8a3-4cbe-a584-3bef21bfd577",
   "metadata": {},
   "outputs": [],
   "source": [
    "#question 8 >> Discuss the importance of dictionary keys being immutable and provide examples\n",
    "\n"
   ]
  },
  {
   "cell_type": "code",
   "execution_count": null,
   "id": "d8d594e1-ebc2-4868-b8af-881cea06da08",
   "metadata": {},
   "outputs": [],
   "source": []
  },
  {
   "cell_type": "code",
   "execution_count": 25,
   "id": "5d616167-076d-45c2-8dc9-7a9d9d6e6208",
   "metadata": {},
   "outputs": [],
   "source": [
    "#In Python, dictionaries are collections of key-value pairs, where each key must be unique and immutable. The immutability of dictionary keys is crucial for several reasons related to how dictionaries are implemented and how they behave in practice. Let’s explore the importance of dictionary keys being immutable and provide examples to illustrate the underlying concepts."
   ]
  },
  {
   "cell_type": "code",
   "execution_count": 26,
   "id": "2a2eb5ba-1fcd-4abc-a04d-801aa233875d",
   "metadata": {},
   "outputs": [],
   "source": [
    "##1. Why Dictionary Keys Must Be Immutable\n",
    "\n",
    "#Dictionaries in Python are implemented using a data structure known as a hash table. In a hash table, the key is used to calculate a hash value, which is a unique identifier that points to the location where the value associated with the key is stored. For the hash table to work efficiently, the key must have a fixed, unchanging hash value throughout the lifetime of the dictionary. If a key were mutable (e.g., a list or a dictionary), its hash value could change after it is inserted into the dictionary, leading to inconsistencies and errors when trying to retrieve, update, or delete values.\n",
    "\n",
    "#Here are the main reasons why dictionary keys must be immutable:\n",
    "\n",
    "#>> Hash consistency: A key's hash value must remain constant so that the dictionary can correctly locate the key in its internal storage. If a mutable key were allowed, its hash value could change, and the dictionary would no longer be able to find the key.\n",
    "\n",
    "#>> Efficiency: Hash-based lookups in dictionaries are efficient (average time complexity of O(1)) because the hash function generates a unique index for each key. If the key changes, this efficiency would be lost.\n",
    "\n",
    "#>> Data integrity: By enforcing immutability, Python ensures that once a key is inserted, it cannot be altered in a way that would disrupt its position or value retrieval in the dictionary."
   ]
  },
  {
   "cell_type": "code",
   "execution_count": 27,
   "id": "07faf70f-3ecd-4c65-9431-5195d414a1c6",
   "metadata": {},
   "outputs": [],
   "source": [
    "## 2. Examples of Immutable and Mutable Types\n",
    "\n",
    "#In Python, immutable types (which can be used as dictionary keys) include:\n",
    "#Strings\n",
    "#Numbers (integers, floats)\n",
    "#Tuples (provided all the elements inside the tuple are also immutable)\n",
    "\n",
    "#Mutable types (which cannot be used as dictionary keys) include:\n",
    "#Lists\n",
    "#Dictionaries\n",
    "#Sets\n",
    "\n"
   ]
  },
  {
   "cell_type": "code",
   "execution_count": 28,
   "id": "69f59806-6633-45db-a417-631d01a4ad87",
   "metadata": {},
   "outputs": [
    {
     "name": "stdout",
     "output_type": "stream",
     "text": [
      "Alice\n",
      "Point A\n"
     ]
    }
   ],
   "source": [
    "##3. Examples of Using Immutable Types as Dictionary Keys\n",
    "\n",
    "#Example 1: Using a string (immutable) as a dictionary key\n",
    "\n",
    "# Using a string as a dictionary key\n",
    "person = {'name': 'Alice', 'age': 25, 'city': 'New York'}\n",
    "\n",
    "# Accessing the value using a string key\n",
    "print(person['name'])  # Output: Alice\n",
    "\n",
    "# insights >> In this example, the string 'name' is used as a key, and it is immutable. This means that once 'name' is used as a key, its value (in this case, 'Alice') will always be retrievable.\n",
    "\n",
    "\n",
    "\n",
    "##Example 2: Using a tuple (immutable) as a dictionary key\n",
    "\n",
    "# Using a tuple as a dictionary key\n",
    "coordinates = {(10, 20): 'Point A', (30, 40): 'Point B'}\n",
    "\n",
    "# Accessing a value using a tuple key\n",
    "print(coordinates[(10, 20)])  # Output: Point A\n",
    "\n",
    "# insights >> Here, the tuple (10, 20) is immutable and serves as a valid dictionary key. You can add multiple tuple keys, and they will remain consistent in the dictionary."
   ]
  },
  {
   "cell_type": "code",
   "execution_count": 29,
   "id": "21a287b8-fc26-4bea-a2f9-e70fc45844de",
   "metadata": {},
   "outputs": [
    {
     "name": "stdout",
     "output_type": "stream",
     "text": [
      "unhashable type: 'list'\n",
      "unhashable type: 'dict'\n",
      "unhashable type: 'set'\n"
     ]
    }
   ],
   "source": [
    "##4. Examples of Using Mutable Types as Dictionary Keys (Invalid)\n",
    "\n",
    "#Example 1: Attempting to use a list (mutable) as a dictionary key\n",
    "\n",
    "# Trying to use a list as a dictionary key\n",
    "try:\n",
    "    invalid_dict = {[1, 2, 3]: 'invalid'}\n",
    "except TypeError as e:\n",
    "    print(e)  # Output: unhashable type: 'list'\n",
    "\n",
    "#insights >> In this case, a TypeError is raised because lists are mutable, and therefore cannot be used as dictionary keys. Lists can change their contents, which would change their hash values and invalidate their usage as dictionary keys.\n",
    "\n",
    "## Example 2: Attempting to use a dictionary (mutable) as a dictionary key\n",
    "\n",
    "# Trying to use a dictionary as a dictionary key\n",
    "try:\n",
    "    invalid_dict = {{'key': 'value'}: 'another invalid'}\n",
    "except TypeError as e:\n",
    "    print(e)  # Output: unhashable type: 'dict'\n",
    "\n",
    "#insgihts >> Similarly, dictionaries are mutable, so they cannot be used as dictionary keys.\n",
    "\n",
    "\n",
    "#Example 3: Attempting to use a set (mutable) as a dictionary key\n",
    "\n",
    "# Trying to use a set as a dictionary key\n",
    "try:\n",
    "    invalid_dict = {frozenset([1, 2, 3]): 'valid key', {4, 5, 6}: 'invalid'}\n",
    "except TypeError as e:\n",
    "    print(e)  # Output: unhashable type: 'set'\n",
    "\n",
    "#insights>> Sets are mutable, and using them as dictionary keys would cause the dictionary to behave unpredictably. However, frozensets (which are immutable) can be used as dictionary keys because they are hashable."
   ]
  },
  {
   "cell_type": "code",
   "execution_count": 30,
   "id": "4821fb70-da80-4497-9f66-266b54d594e9",
   "metadata": {},
   "outputs": [],
   "source": [
    "## 5. Advantages of Using Immutable Keys\n",
    "\n",
    "#1. Consistency and Reliability:\n",
    "#Immutable keys ensure that their value (and thus their hash) never changes once they are inserted into the dictionary. This guarantees that looking up a key will always return the correct value.\n",
    "\n",
    "#2. Security:\n",
    "#If dictionary keys were mutable, there could be security concerns if someone changed the state of the key during the program’s execution, potentially causing unexpected behavior or security vulnerabilities.\n",
    "\n",
    "#3. Efficient Lookups:\n",
    "#Immutability allows Python to calculate the hash of a key once and use that hash consistently for fast lookups. If the key were mutable, the hash would need to be recalculated, which would be inefficient and error-prone.\n",
    "\n",
    "#4. Predictable Behavior:\n",
    "#Using immutable keys ensures that the behavior of the dictionary is predictable. Mutability would introduce a layer of complexity where keys could \"disappear\" or \"change\" unexpectedly, making the dictionary harder to debug and understand.\n",
    "\n",
    "#6. Summary\n",
    "#The requirement for dictionary keys to be immutable is a fundamental aspect of Python’s design. It ensures:\n",
    "#Consistency of keys via fixed hash values.\n",
    "#Efficiency in lookup operations and data management.\n",
    "#Reliability and safety of the dictionary's behavior.\n",
    "\n",
    "\n",
    "#Immutable types like strings, numbers, and tuples can be used as dictionary keys, while mutable types like lists, sets, and dictionaries cannot. This restriction maintains the integrity of hash-based lookups and ensures that dictionaries behave as expected without the risk of unpredictable changes in keys."
   ]
  },
  {
   "cell_type": "code",
   "execution_count": null,
   "id": "2610c95c-5a94-4068-9edd-bf902c5f8941",
   "metadata": {},
   "outputs": [],
   "source": []
  }
 ],
 "metadata": {
  "kernelspec": {
   "display_name": "Python 3 (ipykernel)",
   "language": "python",
   "name": "python3"
  },
  "language_info": {
   "codemirror_mode": {
    "name": "ipython",
    "version": 3
   },
   "file_extension": ".py",
   "mimetype": "text/x-python",
   "name": "python",
   "nbconvert_exporter": "python",
   "pygments_lexer": "ipython3",
   "version": "3.12.7"
  }
 },
 "nbformat": 4,
 "nbformat_minor": 5
}
